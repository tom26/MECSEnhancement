{
 "cells": [
  {
   "cell_type": "markdown",
   "metadata": {},
   "source": [
    "# Calculations for *Enhancement in Specific Absorption Rate by Solvent Microencapsulation* by Moore et al 2018\n",
    "This notebook contains the code used to create all plots in the paper *Enhancement in Specific Absorption Rate by Solvent Microencapsulation*, by Moore et al (2018). Code is written in Julia v0.5.1, and should be legible to users of MATLAB, Python, or other popular scientific computing packages. This code is released in the spirit of scientific transparency, and any errors contained herein are due solely to Thomas Moore."
   ]
  },
  {
   "cell_type": "markdown",
   "metadata": {},
   "source": []
  }
 ],
 "metadata": {
  "kernelspec": {
   "display_name": "Julia 0.5.1",
   "language": "julia",
   "name": "julia-0.5"
  },
  "language_info": {
   "file_extension": ".jl",
   "mimetype": "application/julia",
   "name": "julia",
   "version": "0.5.1"
  }
 },
 "nbformat": 4,
 "nbformat_minor": 2
}
